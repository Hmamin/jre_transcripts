{
 "cells": [
  {
   "cell_type": "code",
   "execution_count": 106,
   "metadata": {
    "collapsed": false
   },
   "outputs": [],
   "source": [
    "import requests\n",
    "import re\n",
    "from bs4 import BeautifulSoup as BS\n",
    "from collections import Counter\n",
    "from nltk.tokenize import sent_tokenize, word_tokenize\n",
    "from nltk.corpus import stopwords\n",
    "from pprint import pprint"
   ]
  },
  {
   "cell_type": "code",
   "execution_count": 90,
   "metadata": {
    "collapsed": false
   },
   "outputs": [
    {
     "name": "stdout",
     "output_type": "stream",
     "text": [
      "611\n",
      "163379\n"
     ]
    }
   ],
   "source": [
    "url = r'https://erikamentari.wordpress.com/2018/02/27/jre-1070-jordan-peterson-transcript/'\n",
    "\n",
    "content = requests.get(url).text\n",
    "soup = BS(content, 'lxml')\n",
    "paragraphs = soup.find_all('p')\n",
    "paragraphs = [p.get_text().replace('Joe Rogan: ', 'Joe: ').replace('Dr Jordan B Peterson: ', \"Jordan: \")\\\n",
    "              for p in paragraphs[8:-10]]\n",
    "paragraph_text = ' '.join(paragraphs)\n",
    "print(len(paragraphs))\n",
    "print(len(paragraph_text))"
   ]
  },
  {
   "cell_type": "code",
   "execution_count": 101,
   "metadata": {
    "collapsed": false
   },
   "outputs": [
    {
     "name": "stdout",
     "output_type": "stream",
     "text": [
      "306\n",
      "304\n",
      "['18:18']\n"
     ]
    }
   ],
   "source": [
    "rogan_p = [p.replace('Joe:', '').strip() for p in paragraphs if p.startswith('Joe:')]\n",
    "peterson_p = [p.replace('Jordan:', '').strip() for p in paragraphs if p.startswith('Jordan:')]\n",
    "unlabeled = [p for p in paragraphs if not p.startswith('Joe:') and not p.startswith('Jordan:')]\n",
    "rogan_p.insert(1, unlabeled.pop(0))\n",
    "print(len(rogan_p))\n",
    "print(len(peterson_p))\n",
    "print(unlabeled)"
   ]
  },
  {
   "cell_type": "code",
   "execution_count": 102,
   "metadata": {
    "collapsed": false
   },
   "outputs": [
    {
     "name": "stdout",
     "output_type": "stream",
     "text": [
      "Total word count: 29119\n",
      "Rogan word count: 6736\n",
      "Peterson word count: 22383\n",
      "% of conversation (Rogan): 23.13%\n",
      "% of conversation (Peterson): 76.87%\n"
     ]
    }
   ],
   "source": [
    "rogan_words = ' '.join(rogan_p).split(' ')\n",
    "peterson_words = ' '.join(peterson_p).split(' ')\n",
    "rogan_count, peterson_count = len(rogan_words), len(peterson_words)\n",
    "total_count = rogan_count + peterson_count\n",
    "rogan_percent = rogan_count / total_count\n",
    "peterson_percent = peterson_count / total_count\n",
    "print('Total word count:', total_count)\n",
    "print('Rogan word count:', rogan_count)\n",
    "print('Peterson word count:', peterson_count)\n",
    "print('% of conversation (Rogan): {}%'.format(round(100* rogan_percent, 2)))\n",
    "print('% of conversation (Peterson): {}%'.format(round(100 * peterson_percent, 2)))"
   ]
  },
  {
   "cell_type": "code",
   "execution_count": 1,
   "metadata": {
    "collapsed": false
   },
   "outputs": [
    {
     "ename": "NameError",
     "evalue": "name 'Counter' is not defined",
     "output_type": "error",
     "traceback": [
      "\u001b[0;31m---------------------------------------------------------------------------\u001b[0m",
      "\u001b[0;31mNameError\u001b[0m                                 Traceback (most recent call last)",
      "\u001b[0;32m<ipython-input-1-ab53a333ea4e>\u001b[0m in \u001b[0;36m<module>\u001b[0;34m()\u001b[0m\n\u001b[0;32m----> 1\u001b[0;31m \u001b[0mcommon_rogan\u001b[0m \u001b[1;33m=\u001b[0m \u001b[0mCounter\u001b[0m\u001b[1;33m(\u001b[0m\u001b[0mrogan_words\u001b[0m\u001b[1;33m)\u001b[0m\u001b[1;33m.\u001b[0m\u001b[0mmost_common\u001b[0m\u001b[1;33m\u001b[0m\u001b[0m\n\u001b[0m\u001b[1;32m      2\u001b[0m \u001b[0mcommon_peterson\u001b[0m \u001b[1;33m=\u001b[0m \u001b[0mCounter\u001b[0m\u001b[1;33m(\u001b[0m\u001b[0mpeterson_words\u001b[0m\u001b[1;33m)\u001b[0m\u001b[1;33m.\u001b[0m\u001b[0mmost_common\u001b[0m\u001b[1;33m\u001b[0m\u001b[0m\n",
      "\u001b[0;31mNameError\u001b[0m: name 'Counter' is not defined"
     ]
    }
   ],
   "source": [
    "common_rogan = Counter(rogan_words).most_common\n",
    "common_peterson = Counter(peterson_words).most_common"
   ]
  },
  {
   "cell_type": "code",
   "execution_count": 105,
   "metadata": {
    "collapsed": false
   },
   "outputs": [],
   "source": [
    "rogan_corpus = ' '.join(rogan_words)\n",
    "peterson_corpus = ' '.join(peterson_words)\n",
    "rogan_word_toke, rogan_p_toke = word_tokenize(rogan_corpus), sent_tokenize(rogan_corpus)\n",
    "peterson_word_toke, peterson_p_toke = word_tokenize(peterson_corpus), sent_tokenize(peterson_corpus)"
   ]
  },
  {
   "cell_type": "code",
   "execution_count": 107,
   "metadata": {
    "collapsed": true
   },
   "outputs": [],
   "source": [
    "stop_words = stopwords.words('english')\n",
    "rogan_word_toke = [w for w in rogan_word_toke if w not in stop_words]\n",
    "peterson_word_toke = [w for w in peterson_word_toke if w not in stop_words]"
   ]
  },
  {
   "cell_type": "code",
   "execution_count": null,
   "metadata": {
    "collapsed": true
   },
   "outputs": [],
   "source": []
  }
 ],
 "metadata": {
  "kernelspec": {
   "display_name": "Python 3",
   "language": "python",
   "name": "python3"
  },
  "language_info": {
   "codemirror_mode": {
    "name": "ipython",
    "version": 3
   },
   "file_extension": ".py",
   "mimetype": "text/x-python",
   "name": "python",
   "nbconvert_exporter": "python",
   "pygments_lexer": "ipython3",
   "version": "3.6.0"
  }
 },
 "nbformat": 4,
 "nbformat_minor": 2
}
