{
 "cells": [
  {
   "cell_type": "code",
   "execution_count": 1,
   "metadata": {
    "collapsed": false
   },
   "outputs": [],
   "source": [
    "import requests\n",
    "import re\n",
    "from bs4 import BeautifulSoup as BS\n",
    "from collections import Counter\n",
    "from nltk.tokenize import sent_tokenize, word_tokenize\n",
    "from nltk.corpus import stopwords\n",
    "from pprint import pprint"
   ]
  },
  {
   "cell_type": "code",
   "execution_count": 3,
   "metadata": {
    "collapsed": false
   },
   "outputs": [
    {
     "name": "stdout",
     "output_type": "stream",
     "text": [
      "Paragraphs: 611\n",
      "Words: 163379\n"
     ]
    }
   ],
   "source": [
    "url = r'https://erikamentari.wordpress.com/2018/02/27/jre-1070-jordan-peterson-transcript/'\n",
    "\n",
    "content = requests.get(url).text\n",
    "soup = BS(content, 'lxml')\n",
    "paragraphs = soup.find_all('p')\n",
    "paragraphs = [p.get_text().replace('Joe Rogan: ', 'Joe: ').replace('Dr Jordan B Peterson: ', \"Jordan: \")\\\n",
    "              for p in paragraphs[8:-10]]\n",
    "paragraph_text = ' '.join(paragraphs)\n",
    "print('Paragraphs:', len(paragraphs))\n",
    "print('Words:', len(paragraph_text))"
   ]
  },
  {
   "cell_type": "code",
   "execution_count": 6,
   "metadata": {
    "collapsed": false
   },
   "outputs": [
    {
     "name": "stdout",
     "output_type": "stream",
     "text": [
      "Rogan paragraph count: 306\n",
      "Peterson paragraph count: 304\n",
      "Unassigned text: ['18:18']\n"
     ]
    }
   ],
   "source": [
    "rogan_p = [p.replace('Joe:', '').strip() for p in paragraphs if p.startswith('Joe:')]\n",
    "peterson_p = [p.replace('Jordan:', '').strip() for p in paragraphs if p.startswith('Jordan:')]\n",
    "unlabeled = [p for p in paragraphs if not p.startswith('Joe:') and not p.startswith('Jordan:')]\n",
    "rogan_p.insert(1, unlabeled.pop(0))\n",
    "print('Rogan paragraph count:', len(rogan_p))\n",
    "print('Peterson paragraph count:', len(peterson_p))\n",
    "print('Unassigned text:', unlabeled)"
   ]
  },
  {
   "cell_type": "code",
   "execution_count": 7,
   "metadata": {
    "collapsed": false
   },
   "outputs": [
    {
     "name": "stdout",
     "output_type": "stream",
     "text": [
      "Total word count: 29119\n",
      "Rogan word count: 6736\n",
      "Peterson word count: 22383\n",
      "% of conversation (Rogan): 23.13%\n",
      "% of conversation (Peterson): 76.87%\n"
     ]
    }
   ],
   "source": [
    "rogan_words = ' '.join(rogan_p).split(' ')\n",
    "peterson_words = ' '.join(peterson_p).split(' ')\n",
    "rogan_count, peterson_count = len(rogan_words), len(peterson_words)\n",
    "total_count = rogan_count + peterson_count\n",
    "rogan_percent = rogan_count / total_count\n",
    "peterson_percent = peterson_count / total_count\n",
    "print('Total word count:', total_count)\n",
    "print('Rogan word count:', rogan_count)\n",
    "print('Peterson word count:', peterson_count)\n",
    "print('% of conversation (Rogan): {}%'.format(round(100* rogan_percent, 2)))\n",
    "print('% of conversation (Peterson): {}%'.format(round(100 * peterson_percent, 2)))"
   ]
  },
  {
   "cell_type": "code",
   "execution_count": 17,
   "metadata": {
    "collapsed": false
   },
   "outputs": [
    {
     "name": "stdout",
     "output_type": "stream",
     "text": [
      "Most common words (Rogan)\n",
      "\n",
      "[('to', 187), ('of', 182), ('the', 178), ('I', 170), ('and', 157), ('a', 155), ('that', 145), ('you', 127), ('is', 126), ('this', 91), ('in', 87), ('people', 65), ('And', 64), ('what', 59), ('have', 59), ('it', 56), ('about', 53), ('think', 51), ('was', 50), ('are', 47), ('you’re', 42), ('not', 42), ('it’s', 41), ('with', 38), ('one', 35)]\n",
      "\n",
      "Most common words (Peterson)\n",
      "\n",
      "[('the', 868), ('to', 614), ('and', 524), ('you', 517), ('of', 498), ('a', 493), ('that', 466), ('I', 430), ('is', 291), ('in', 262), ('And', 244), ('it', 219), ('it’s', 195), ('like,', 189), ('that’s', 181), ('It’s', 174), ('what', 168), ('they', 156), ('have', 149), ('so', 144), ('was', 135), ('for', 134), ('people', 133), ('be', 128), ('do', 125)]\n"
     ]
    }
   ],
   "source": [
    "common_rogan = Counter(rogan_words).most_common()\n",
    "common_peterson = Counter(peterson_words).most_common()\n",
    "print('Most common words (Rogan)\\n\\n' + str(common_rogan[:25]))\n",
    "print('\\nMost common words (Peterson)\\n\\n' + str(common_peterson[:25]))"
   ]
  },
  {
   "cell_type": "code",
   "execution_count": 42,
   "metadata": {
    "collapsed": false
   },
   "outputs": [
    {
     "name": "stdout",
     "output_type": "stream",
     "text": [
      "7649\n",
      "25981\n"
     ]
    }
   ],
   "source": [
    "rogan_corpus = ' '.join(rogan_words)\n",
    "peterson_corpus = ' '.join(peterson_words)\n",
    "rogan_word_toke, rogan_p_toke = word_tokenize(rogan_corpus), sent_tokenize(rogan_corpus)\n",
    "peterson_word_toke, peterson_p_toke = word_tokenize(peterson_corpus), sent_tokenize(peterson_corpus)\n",
    "print(len(rogan_word_toke))\n",
    "print(len(peterson_word_toke))"
   ]
  },
  {
   "cell_type": "code",
   "execution_count": 43,
   "metadata": {
    "collapsed": false
   },
   "outputs": [],
   "source": [
    "stop_words = stopwords.words('english')\n",
    "rogan_word_toke = [w for w in rogan_word_toke if w.lower() not in stop_words]\n",
    "peterson_word_toke = [w for w in peterson_word_toke if w not in stop_words]"
   ]
  },
  {
   "cell_type": "code",
   "execution_count": 35,
   "metadata": {
    "collapsed": false
   },
   "outputs": [
    {
     "name": "stdout",
     "output_type": "stream",
     "text": [
      "4161\n",
      "14958\n",
      "[('.', 446), (',', 368), ('people', 73), ('?', 62), ('think', 53), ('like', 45), ('you’re', 42), ('it’s', 41), ('one', 35), ('things', 30), ('that’s', 28), ('don’t', 28), (';', 25), ('I’m', 24), ('Yeah', 24), ('Right', 23), ('know', 23), ('Yes', 22), ('get', 22), ('going', 22), ('mean', 21), ('It’s', 21), ('way', 20), ('saying', 18), ('right', 17)]\n",
      "[(',', 1853), ('.', 1345), ('like', 308), ('it’s', 196), ('?', 191), ('that’s', 182), ('It’s', 175), ('well', 165), (';', 163), ('people', 156), ('know', 150), ('think', 120), ('you’re', 102), ('Yeah', 99), ('Well', 97), ('going', 94), ('don’t', 85), ('I’m', 84), ('right', 81), ('say', 80), ('things', 70), ('there’s', 66), ('way', 65), ('want', 65), ('That’s', 59)]\n"
     ]
    }
   ],
   "source": [
    "print(len(rogan_word_toke))\n",
    "print(len(peterson_word_toke))\n",
    "print(Counter(rogan_word_toke).most_common(25))\n",
    "print(Counter(peterson_word_toke).most_common(25))"
   ]
  },
  {
   "cell_type": "code",
   "execution_count": 72,
   "metadata": {
    "collapsed": false
   },
   "outputs": [
    {
     "name": "stdout",
     "output_type": "stream",
     "text": [
      "!\"#$%&'()*+,-./:;<=>?@[\\]^_`{|}~\n"
     ]
    },
    {
     "data": {
      "text/plain": [
       "'abdlkja c 3dk  ejf  dk'"
      ]
     },
     "execution_count": 72,
     "metadata": {},
     "output_type": "execute_result"
    }
   ],
   "source": [
    "import string\n",
    "\n",
    "print(string.punctuation)\n",
    "remove_punct = str.maketrans(string.punctuation, ' '*len(string.punctuation))\n",
    "a = 'abdlkja;c,3dk!.ejf}]dk'.translate(remove_punct)\n",
    "#a = 'abdlkja;c,3dk!.ejf}]dk'.remove(string.punctuation)\n",
    "a"
   ]
  },
  {
   "cell_type": "code",
   "execution_count": null,
   "metadata": {
    "collapsed": false
   },
   "outputs": [],
   "source": []
  },
  {
   "cell_type": "code",
   "execution_count": null,
   "metadata": {
    "collapsed": true
   },
   "outputs": [],
   "source": []
  }
 ],
 "metadata": {
  "kernelspec": {
   "display_name": "Python 3",
   "language": "python",
   "name": "python3"
  },
  "language_info": {
   "codemirror_mode": {
    "name": "ipython",
    "version": 3
   },
   "file_extension": ".py",
   "mimetype": "text/x-python",
   "name": "python",
   "nbconvert_exporter": "python",
   "pygments_lexer": "ipython3",
   "version": "3.6.0"
  }
 },
 "nbformat": 4,
 "nbformat_minor": 2
}
